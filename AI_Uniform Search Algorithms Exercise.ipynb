{
 "cells": [
  {
   "cell_type": "markdown",
   "id": "e050e735",
   "metadata": {},
   "source": [
    "# 1. UNINFORMED SEARCH"
   ]
  },
  {
   "cell_type": "markdown",
   "id": "b15125fa",
   "metadata": {},
   "source": [
    "### 1.1 Breadth First Search (BFS)"
   ]
  },
  {
   "cell_type": "code",
   "execution_count": 1,
   "id": "aca45527",
   "metadata": {},
   "outputs": [
    {
     "name": "stdout",
     "output_type": "stream",
     "text": [
      "A B D "
     ]
    }
   ],
   "source": [
    "graph = {\n",
    "    'A' : ['B', 'C'],\n",
    "    'B' : ['D', 'E'],\n",
    "    'C' : ['F', 'G'],\n",
    "    'D' : [],\n",
    "    'E' : [],\n",
    "    'F' : [],\n",
    "    'G' : []\n",
    "}\n",
    "visited = []\n",
    "queue = []\n",
    "goal = 'B'\n",
    "def bfs(visited, graph, node):\n",
    "    visited.append(node)\n",
    "    queue.append(node)\n",
    "    while queue:\n",
    "        s = queue.pop(0)\n",
    "        print (s, end = \" \")\n",
    "        for neighbour in graph[s]:\n",
    "            if neighbour not in visited:\n",
    "                visited.append(neighbour)\n",
    "                queue.append(neighbour)\n",
    "                if goal in visited:\n",
    "                    break\n",
    "bfs(visited, graph, 'A')\n"
   ]
  },
  {
   "cell_type": "code",
   "execution_count": 2,
   "id": "68a14e6b",
   "metadata": {},
   "outputs": [
    {
     "name": "stdout",
     "output_type": "stream",
     "text": [
      "Banana Durian Eskrim "
     ]
    }
   ],
   "source": [
    "#trial\n",
    "graph = {\n",
    "    'Apple' : ['Banana', 'Cherry'],\n",
    "    'Banana' : ['Durian', 'Eskrim'],\n",
    "    'Cherry' : ['Fantasi', 'Gurame'],\n",
    "    'Durian' : [],\n",
    "    'Eskrim' : [],\n",
    "    'Fantasi' : [],\n",
    "    'Gurame' : []\n",
    "}\n",
    "visited = []\n",
    "queue = []\n",
    "goal = 'Cherry'\n",
    "def bfs(visited, graph, node):\n",
    "    visited.append(node)\n",
    "    queue.append(node)\n",
    "    while queue:\n",
    "        s = queue.pop(0)\n",
    "        print (s, end = \" \")\n",
    "        for neighbour in graph[s]:\n",
    "            if neighbour not in visited:\n",
    "                visited.append(neighbour)\n",
    "                queue.append(neighbour)\n",
    "                if goal in visited:\n",
    "                    break\n",
    "bfs(visited, graph, 'Banana')\n"
   ]
  },
  {
   "cell_type": "markdown",
   "id": "ed008f1a",
   "metadata": {},
   "source": [
    "### 1.2 Depth First Search (DFS)"
   ]
  },
  {
   "cell_type": "code",
   "execution_count": 3,
   "id": "a113acfb",
   "metadata": {},
   "outputs": [
    {
     "name": "stdout",
     "output_type": "stream",
     "text": [
      "A\n",
      "B\n",
      "D\n",
      "E\n",
      "C\n"
     ]
    }
   ],
   "source": [
    "graph = {\n",
    "    'A' : ['B', 'C'],\n",
    "    'B' : ['D', 'E'],\n",
    "    'C' : ['F', 'G'],\n",
    "    'D' : [],\n",
    "    'E' : [],\n",
    "    'F' : [],\n",
    "    'G' : []\n",
    "}\n",
    "goal = 'C'\n",
    "visited = set()\n",
    "def dfs(visited, graph, node):\n",
    "    if node not in visited:\n",
    "        print (node)\n",
    "        visited.add(node)\n",
    "        for neighbour in graph[node]:\n",
    "            if goal in visited:\n",
    "                break\n",
    "            else:\n",
    "                dfs(visited, graph, neighbour)\n",
    "dfs(visited, graph, 'A')"
   ]
  },
  {
   "cell_type": "markdown",
   "id": "99d35f6f",
   "metadata": {},
   "source": [
    "### 1.3 Depth Limited Search (DLS)"
   ]
  },
  {
   "cell_type": "code",
   "execution_count": 4,
   "id": "356bf96c",
   "metadata": {},
   "outputs": [
    {
     "name": "stdout",
     "output_type": "stream",
     "text": [
      "Enter the goal node:-D\n",
      "Enter the maximum depth limit:-2\n",
      "\n",
      "nCurrent level--> 0\n",
      "Goal node testing failed\n",
      "nExpanding the current node A\n",
      "nCurrent level--> 1\n",
      "Goal node testing failed\n",
      "nExpanding the current node B\n",
      "nCurrent level--> 2\n",
      "Goal test successful\n",
      "Path to goal node available\n",
      "Path ['A', 'B', 'D']\n"
     ]
    }
   ],
   "source": [
    "graph = {\n",
    "    'A' : ['B', 'C'],\n",
    "    'B' : ['D', 'E'],\n",
    "    'C' : ['F', 'G'],\n",
    "    'D' : [],\n",
    "    'E' : [],\n",
    "    'F' : [],\n",
    "    'G' : []\n",
    "}\n",
    "def DLS(start,goal,path,level,maxD):\n",
    "    print ('nCurrent level-->', level)\n",
    "    path.append(start)\n",
    "    if start == goal:\n",
    "        print(\"Goal test successful\")\n",
    "        return path\n",
    "    print ('Goal node testing failed')\n",
    "    if level==maxD:\n",
    "        return False\n",
    "    print('nExpanding the current node',start)\n",
    "    for child in graph[start]:\n",
    "        if DLS(child,goal,path,level+1,maxD):\n",
    "            return path\n",
    "        path.pop()\n",
    "        return False\n",
    "start = 'A'\n",
    "goal = input('Enter the goal node:-')\n",
    "maxD = int(input(\"Enter the maximum depth limit:-\"))\n",
    "print()\n",
    "path = list()\n",
    "res = DLS(start,goal,path,0,maxD)\n",
    "if(res):\n",
    "    print(\"Path to goal node available\")\n",
    "    print(\"Path\", path)\n",
    "else:\n",
    "    print(\"No path available for the goal node in given depth limit\")"
   ]
  },
  {
   "cell_type": "markdown",
   "id": "c709926e",
   "metadata": {},
   "source": [
    "### 1.4 Iterative Deepening Depth First Search"
   ]
  },
  {
   "cell_type": "code",
   "execution_count": 5,
   "id": "4e78e40c",
   "metadata": {},
   "outputs": [
    {
     "name": "stdout",
     "output_type": "stream",
     "text": [
      "Path exists\n",
      "['A', 'B', 'E']\n"
     ]
    }
   ],
   "source": [
    "graph = {\n",
    "    'A' : ['B', 'C'],\n",
    "    'B' : ['D', 'E'],\n",
    "    'C' : ['F', 'G'],\n",
    "    'D' : [],\n",
    "    'E' : [],\n",
    "    'F' : [],\n",
    "    'G' : []\n",
    "}\n",
    "path = list()\n",
    "def DFS(currentNode,destination,graph,maxDepth,curList):\n",
    "    curList.append(currentNode)\n",
    "    if currentNode==destination:\n",
    "        return True\n",
    "    if maxDepth<=0:\n",
    "        path.append(curList)\n",
    "        return False\n",
    "    for node in graph[currentNode]:\n",
    "        if DFS(node,destination,graph,maxDepth-1,curList):\n",
    "            return True\n",
    "        else:\n",
    "            curList.pop()\n",
    "    return False\n",
    "def iterativeDDFS(currentNode,destination,graph,maxDepth):\n",
    "    for i in range(maxDepth):\n",
    "        curList = list()\n",
    "        if DFS(currentNode,destination,graph,i,curList):\n",
    "            return True\n",
    "    return False\n",
    "if not iterativeDDFS('A', 'E',graph,3):\n",
    "    print(\"Path is not available\")\n",
    "else:\n",
    "    print(\"Path exists\")\n",
    "    print(path.pop())\n",
    "            "
   ]
  },
  {
   "cell_type": "markdown",
   "id": "2cae4bb7",
   "metadata": {},
   "source": [
    "# FINISH"
   ]
  }
 ],
 "metadata": {
  "kernelspec": {
   "display_name": "Python 3 (ipykernel)",
   "language": "python",
   "name": "python3"
  },
  "language_info": {
   "codemirror_mode": {
    "name": "ipython",
    "version": 3
   },
   "file_extension": ".py",
   "mimetype": "text/x-python",
   "name": "python",
   "nbconvert_exporter": "python",
   "pygments_lexer": "ipython3",
   "version": "3.9.13"
  }
 },
 "nbformat": 4,
 "nbformat_minor": 5
}
