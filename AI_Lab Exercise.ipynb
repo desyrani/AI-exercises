{
 "cells": [
  {
   "cell_type": "markdown",
   "id": "57233469",
   "metadata": {},
   "source": [
    "# Artificial Intelligence_LAB03"
   ]
  },
  {
   "cell_type": "markdown",
   "id": "506688c7",
   "metadata": {},
   "source": [
    "# Insert Items"
   ]
  },
  {
   "cell_type": "code",
   "execution_count": 1,
   "id": "9d6c420b",
   "metadata": {},
   "outputs": [
    {
     "name": "stdout",
     "output_type": "stream",
     "text": [
      "['Desy', 'Nita', 'Wina', 'Wani']\n"
     ]
    }
   ],
   "source": [
    "list = [\"Desy\", \"Nita\", \"Wani\"]\n",
    "list.insert(2, \"Wina\")\n",
    "print(list)"
   ]
  },
  {
   "cell_type": "markdown",
   "id": "3458aa63",
   "metadata": {},
   "source": [
    "# Append Items\n",
    "\n",
    "To add an item to the end of the list."
   ]
  },
  {
   "cell_type": "code",
   "execution_count": 2,
   "id": "a46383c1",
   "metadata": {},
   "outputs": [
    {
     "name": "stdout",
     "output_type": "stream",
     "text": [
      "['Desy', 'Nita', 'Wani', 'Wina']\n"
     ]
    }
   ],
   "source": [
    "list = [\"Desy\", \"Nita\", \"Wani\"]\n",
    "list.append(\"Wina\")\n",
    "print(list)"
   ]
  },
  {
   "cell_type": "markdown",
   "id": "ad779ef0",
   "metadata": {},
   "source": [
    "# Extend List\n",
    "\n",
    "To append elements from another list to the current list, The elements will be added to the end of the list."
   ]
  },
  {
   "cell_type": "code",
   "execution_count": 3,
   "id": "df7848a2",
   "metadata": {},
   "outputs": [
    {
     "name": "stdout",
     "output_type": "stream",
     "text": [
      "['Desy', 'Nita', 'Wani', 'Anis', 'Wina', 'Shine']\n"
     ]
    }
   ],
   "source": [
    "lc = [\"Desy\", \"Nita\", \"Wani\"]\n",
    "fs = [\"Anis\", \"Wina\", \"Shine\"]\n",
    "lc.extend(fs)\n",
    "print(lc)"
   ]
  },
  {
   "cell_type": "markdown",
   "id": "0e028837",
   "metadata": {},
   "source": [
    "# Add Any Iterable\n",
    "\n",
    "Pay attention to the bracket, list using [ ] otherwise tuple using ( )"
   ]
  },
  {
   "cell_type": "code",
   "execution_count": 4,
   "id": "504829b2",
   "metadata": {},
   "outputs": [
    {
     "name": "stdout",
     "output_type": "stream",
     "text": [
      "['apple', 'banana', 'cherry', 'kiwi', 'orange']\n"
     ]
    }
   ],
   "source": [
    "thislist = [\"apple\", \"banana\", \"cherry\"]\n",
    "thistuple = (\"kiwi\", \"orange\") \n",
    "thislist.extend(thistuple)\n",
    "print(thislist)"
   ]
  },
  {
   "cell_type": "markdown",
   "id": "9d7ddbbf",
   "metadata": {},
   "source": [
    "# Remove Specified Item\n",
    "\n",
    "By using remove ( ) method."
   ]
  },
  {
   "cell_type": "code",
   "execution_count": 5,
   "id": "82851da4",
   "metadata": {},
   "outputs": [
    {
     "name": "stdout",
     "output_type": "stream",
     "text": [
      "['Desy', 'Nita']\n"
     ]
    }
   ],
   "source": [
    "list = [\"Desy\", \"Nita\", \"Wani\"]\n",
    "list.remove(\"Wani\")\n",
    "print(list)"
   ]
  },
  {
   "cell_type": "markdown",
   "id": "4350034e",
   "metadata": {},
   "source": [
    "# Remove Specified Index\n",
    "\n",
    "By using The pop ( ) method."
   ]
  },
  {
   "cell_type": "code",
   "execution_count": 6,
   "id": "36a2c093",
   "metadata": {},
   "outputs": [
    {
     "name": "stdout",
     "output_type": "stream",
     "text": [
      "['Desy', 'Nita']\n"
     ]
    }
   ],
   "source": [
    "list = [\"Desy\", \"Nita\", \"Wani\"]\n",
    "list.pop(2)\n",
    "print(list)"
   ]
  },
  {
   "cell_type": "code",
   "execution_count": 7,
   "id": "95c87c89",
   "metadata": {},
   "outputs": [
    {
     "name": "stdout",
     "output_type": "stream",
     "text": [
      "['Desy', 'Nita']\n"
     ]
    }
   ],
   "source": [
    "# To remove the last item\n",
    "\n",
    "list = [\"Desy\", \"Nita\", \"Wani\"]\n",
    "list.pop()\n",
    "print(list)"
   ]
  },
  {
   "cell_type": "code",
   "execution_count": 9,
   "id": "e09c676f",
   "metadata": {},
   "outputs": [
    {
     "name": "stdout",
     "output_type": "stream",
     "text": [
      "['Nita', 'Wani']\n"
     ]
    }
   ],
   "source": [
    "# To remove the first item\n",
    "\n",
    "list = [\"Desy\", \"Nita\", \"Wani\"]\n",
    "del list[0]\n",
    "print(list)"
   ]
  },
  {
   "cell_type": "code",
   "execution_count": 10,
   "id": "e387d39a",
   "metadata": {},
   "outputs": [],
   "source": [
    "list = [\"Desy\", \"Nita\", \"Wani\"]\n",
    "del list"
   ]
  },
  {
   "cell_type": "markdown",
   "id": "3869ef65",
   "metadata": {},
   "source": [
    "# Clear the List\n",
    "\n",
    "The clear() method empties the list. The list still remains, but it has no content."
   ]
  },
  {
   "cell_type": "code",
   "execution_count": 11,
   "id": "5de6833c",
   "metadata": {},
   "outputs": [
    {
     "name": "stdout",
     "output_type": "stream",
     "text": [
      "[]\n"
     ]
    }
   ],
   "source": [
    "list = [\"Desy\", \"Nita\", \"Wani\"]\n",
    "list.clear()\n",
    "print(list)"
   ]
  },
  {
   "cell_type": "markdown",
   "id": "a1829bb3",
   "metadata": {},
   "source": [
    "# Sort Lists"
   ]
  },
  {
   "cell_type": "code",
   "execution_count": 12,
   "id": "b0afe202",
   "metadata": {},
   "outputs": [
    {
     "name": "stdout",
     "output_type": "stream",
     "text": [
      "['black', 'blue', 'green', 'orange', 'white']\n"
     ]
    }
   ],
   "source": [
    "# Will sort the list alphanumerically, ascending, by default:\n",
    "\n",
    "colour = [\"blue\", \"white\", \"green\", \"orange\", \"black\"]\n",
    "colour.sort()\n",
    "print(colour)"
   ]
  },
  {
   "cell_type": "code",
   "execution_count": 14,
   "id": "9b2ef458",
   "metadata": {},
   "outputs": [
    {
     "name": "stdout",
     "output_type": "stream",
     "text": [
      "[3, 10, 70, 92, 675]\n"
     ]
    }
   ],
   "source": [
    "# Will sort the list numerically:\n",
    "\n",
    "list = [10, 70, 675, 92, 3]\n",
    "list.sort()\n",
    "print(list)"
   ]
  },
  {
   "cell_type": "markdown",
   "id": "52e2eaad",
   "metadata": {},
   "source": [
    "# Sort Descending\n",
    "\n",
    "To sort descending, use the keyword argument reverse = True:"
   ]
  },
  {
   "cell_type": "code",
   "execution_count": 15,
   "id": "9c9cd5fb",
   "metadata": {},
   "outputs": [
    {
     "name": "stdout",
     "output_type": "stream",
     "text": [
      "['white', 'orange', 'green', 'blue', 'black']\n"
     ]
    }
   ],
   "source": [
    "colour = [\"blue\", \"white\", \"green\", \"orange\", \"black\"]\n",
    "colour.sort(reverse = True)\n",
    "print(colour)"
   ]
  },
  {
   "cell_type": "code",
   "execution_count": 17,
   "id": "bc2ed45d",
   "metadata": {},
   "outputs": [
    {
     "name": "stdout",
     "output_type": "stream",
     "text": [
      "[675, 92, 70, 10, 3]\n"
     ]
    }
   ],
   "source": [
    "list = [10, 70, 675, 92, 3]\n",
    "list.sort(reverse = True)\n",
    "print(list)"
   ]
  },
  {
   "cell_type": "markdown",
   "id": "9e8a75f8",
   "metadata": {},
   "source": [
    "# Case Insensitive Sort\n",
    "\n",
    "By using str.lower as a key function:"
   ]
  },
  {
   "cell_type": "code",
   "execution_count": 18,
   "id": "f64b5de0",
   "metadata": {},
   "outputs": [
    {
     "name": "stdout",
     "output_type": "stream",
     "text": [
      "['Black', 'blue', 'green', 'Orange', 'White']\n"
     ]
    }
   ],
   "source": [
    "colour = [\"blue\", \"White\", \"green\", \"Orange\", \"Black\"]\n",
    "colour.sort(key = str.lower)\n",
    "print(colour)"
   ]
  },
  {
   "cell_type": "markdown",
   "id": "5055661c",
   "metadata": {},
   "source": [
    "# Reverse Order"
   ]
  },
  {
   "cell_type": "code",
   "execution_count": 20,
   "id": "e6957a1f",
   "metadata": {},
   "outputs": [
    {
     "name": "stdout",
     "output_type": "stream",
     "text": [
      "['black', 'orange', 'green', 'white', 'blue']\n"
     ]
    }
   ],
   "source": [
    "colour = [\"blue\", \"white\", \"green\", \"orange\", \"black\"]\n",
    "colour.reverse()\n",
    "print(colour)"
   ]
  },
  {
   "cell_type": "markdown",
   "id": "48f134e9",
   "metadata": {},
   "source": [
    "# Copy a List"
   ]
  },
  {
   "cell_type": "code",
   "execution_count": 21,
   "id": "7cd91333",
   "metadata": {},
   "outputs": [
    {
     "name": "stdout",
     "output_type": "stream",
     "text": [
      "['blue', 'white', 'green', 'orange', 'black']\n"
     ]
    }
   ],
   "source": [
    "colour = [\"blue\", \"white\", \"green\", \"orange\", \"black\"]\n",
    "warna = colour.copy()\n",
    "print(warna)"
   ]
  },
  {
   "cell_type": "markdown",
   "id": "da502ac2",
   "metadata": {},
   "source": [
    "# Join Two Lists"
   ]
  },
  {
   "cell_type": "code",
   "execution_count": 25,
   "id": "d53793a1",
   "metadata": {},
   "outputs": [
    {
     "name": "stdout",
     "output_type": "stream",
     "text": [
      "['blue', 'white', 'green', 'biru', 'putih', 'hijau']\n"
     ]
    }
   ],
   "source": [
    "colour = [\"blue\", \"white\", \"green\"]\n",
    "warna = [\"biru\", \"putih\", \"hijau\"]\n",
    "\n",
    "mix = colour + warna \n",
    "print(mix)"
   ]
  },
  {
   "cell_type": "markdown",
   "id": "dea5dc22",
   "metadata": {},
   "source": [
    "# 2. TUPLES\n",
    "\n",
    "Tuples are used to store multiple items in a single variable.\n",
    "\n",
    "A tuple is a collection which is ordered, unchangeable and allow duplicate values.\n",
    "\n",
    "Tuples are written with round brackets.\n",
    "\n",
    "Tuple items are indexed, the first item has index [0], the second item has index [1] etc.\n"
   ]
  },
  {
   "cell_type": "markdown",
   "id": "06f40fd6",
   "metadata": {},
   "source": [
    "# Create Tuple With One Item\n",
    "\n",
    "To create a tuple with only one item, you have to add a comma after the item, otherwise Python will not recognize it as a tuple."
   ]
  },
  {
   "cell_type": "code",
   "execution_count": 26,
   "id": "28747f30",
   "metadata": {},
   "outputs": [
    {
     "name": "stdout",
     "output_type": "stream",
     "text": [
      "<class 'tuple'>\n"
     ]
    }
   ],
   "source": [
    "name = (\"Desy\",)\n",
    "print(type(name))\n",
    "\n",
    "#if without comma, it's not a tuple, but a string"
   ]
  },
  {
   "cell_type": "markdown",
   "id": "4a61fb2d",
   "metadata": {},
   "source": [
    "# Check if Item Exists\n",
    "\n",
    "To determine if a specified item is present in a tuple use the \"in\" keyword:"
   ]
  },
  {
   "cell_type": "code",
   "execution_count": 28,
   "id": "6db5018f",
   "metadata": {},
   "outputs": [
    {
     "name": "stdout",
     "output_type": "stream",
     "text": [
      "Yes, 'Desy' is your name\n"
     ]
    }
   ],
   "source": [
    "myname = (\"Desy\", \"Siti\", \"Nur\")\n",
    "if \"Desy\" in myname:\n",
    "    print(\"Yes, 'Desy' is your name\")"
   ]
  },
  {
   "cell_type": "markdown",
   "id": "870b917a",
   "metadata": {},
   "source": [
    "# Change Tuple Values\n",
    "\n",
    "Once a tuple is created, you cannot change its values. Tuples are unchangeable, or immutable as it also is called.\n",
    "\n",
    "\n",
    "But there is a workaround. You can convert the tuple into a list, change the list, and convert the list back into a tuple."
   ]
  },
  {
   "cell_type": "code",
   "execution_count": null,
   "id": "41bdde13",
   "metadata": {},
   "outputs": [],
   "source": [
    "x = (\"apple\", \"banana\", \"cherry\")\n",
    "y = list(x)\n",
    "y[1] = \"kiwi\"\n",
    "x = tuple(y)\n",
    "print(x)"
   ]
  },
  {
   "cell_type": "markdown",
   "id": "a3f363ba",
   "metadata": {},
   "source": [
    "# Add Items\n",
    "\n"
   ]
  },
  {
   "cell_type": "code",
   "execution_count": null,
   "id": "ad04098d",
   "metadata": {},
   "outputs": [],
   "source": [
    "x = (\"dog\", \"cat\", \"cow\", \"sheep\")\n",
    "y = list(x)\n",
    "y.append(\"rabbit\")\n",
    "x = tuple(y)"
   ]
  },
  {
   "cell_type": "code",
   "execution_count": 44,
   "id": "25dd7e16",
   "metadata": {},
   "outputs": [
    {
     "name": "stdout",
     "output_type": "stream",
     "text": [
      "('dog', 'cat', 'cow', 'sheep', 'rabbit')\n"
     ]
    }
   ],
   "source": [
    "animals = (\"dog\", \"cat\", \"cow\", \"sheep\")\n",
    "y = (\"rabbit\",)\n",
    "animals += y\n",
    "\n",
    "print(x)"
   ]
  },
  {
   "cell_type": "markdown",
   "id": "523253ff",
   "metadata": {},
   "source": [
    "# Remove Items\n",
    "\n",
    "Tuples are unchangeable, so you cannot remove items from it, but you can use the same workaround as we used for changing and adding tuple items.\n",
    "\n",
    "Or you can delete the tuple completely by using The \"del\" keyword. But, this will raise an error because the tuple no longer exists\n",
    "\n"
   ]
  },
  {
   "cell_type": "code",
   "execution_count": null,
   "id": "5bf1f1a9",
   "metadata": {},
   "outputs": [],
   "source": [
    "animals = (\"dog\", \"cat\", \"cow\", \"sheep\")\n",
    "y = list(animals)\n",
    "y.remove(\"dog\")\n",
    "animals = tuple(y)"
   ]
  },
  {
   "cell_type": "markdown",
   "id": "de95fb66",
   "metadata": {},
   "source": [
    "# Unpacking a Tuple\n",
    "\n",
    "When we create a tuple, we normally assign values to it. This is called \"packing\" a tuple."
   ]
  },
  {
   "cell_type": "code",
   "execution_count": 48,
   "id": "99325bcb",
   "metadata": {},
   "outputs": [],
   "source": [
    "# Packing a tuple:\n",
    "\n",
    "animals = (\"dog\", \"cat\", \"cow\")"
   ]
  },
  {
   "cell_type": "markdown",
   "id": "3411473d",
   "metadata": {},
   "source": [
    "But, in Python, we are also allowed to extract the values back into variables. This is called \"unpacking\":"
   ]
  },
  {
   "cell_type": "code",
   "execution_count": 50,
   "id": "cfdfd0a6",
   "metadata": {},
   "outputs": [
    {
     "name": "stdout",
     "output_type": "stream",
     "text": [
      "cat\n",
      "cow\n",
      "dog\n"
     ]
    }
   ],
   "source": [
    "# Unpacking a tuple:\n",
    "\n",
    "animals = (\"dog\", \"cat\", \"cow\")\n",
    "\n",
    "(black, brown, white) = animals\n",
    "\n",
    "print(brown)\n",
    "print(white)\n",
    "print(black)"
   ]
  },
  {
   "cell_type": "markdown",
   "id": "bc4bb336",
   "metadata": {},
   "source": [
    "Note: The number of variables must match the number of values in the tuple, if not, you must use an asterisk to collect the remaining values as a list."
   ]
  },
  {
   "cell_type": "markdown",
   "id": "d43c2d9d",
   "metadata": {},
   "source": [
    "# Using Asterisk*\n",
    "\n",
    "If the number of variables is less than the number of values, you can add an * to the variable name and the values will be assigned to the variable as a list."
   ]
  },
  {
   "cell_type": "code",
   "execution_count": 51,
   "id": "d83f7934",
   "metadata": {},
   "outputs": [
    {
     "name": "stdout",
     "output_type": "stream",
     "text": [
      "apple\n",
      "banana\n",
      "['cherry', 'strawberry', 'raspberry']\n"
     ]
    }
   ],
   "source": [
    "# Assign the rest of the values as a list called \"red\".\n",
    "\n",
    "fruits = (\"apple\", \"banana\", \"cherry\", \"strawberry\", \"raspberry\")\n",
    "(green, yellow, *red) = fruits\n",
    "print(green)\n",
    "print(yellow)\n",
    "print(red)"
   ]
  },
  {
   "cell_type": "markdown",
   "id": "7de8becd",
   "metadata": {},
   "source": [
    "If the asterisk is added to another variable name than the last, Python will assign values to the variable until the number of values left matches the number of variables left."
   ]
  },
  {
   "cell_type": "code",
   "execution_count": 52,
   "id": "2f91cb02",
   "metadata": {},
   "outputs": [
    {
     "name": "stdout",
     "output_type": "stream",
     "text": [
      "apple\n",
      "['mango', 'papaya', 'pineapple']\n",
      "cherry\n"
     ]
    }
   ],
   "source": [
    "# Add a list of values the \"tropic\" variable.\n",
    "\n",
    "fruits = (\"apple\", \"mango\", \"papaya\", \"pineapple\", \"cherry\")\n",
    "(green, *tropic, red) = fruits\n",
    "print(green)\n",
    "print(tropic)\n",
    "print(red)"
   ]
  },
  {
   "cell_type": "markdown",
   "id": "f2afc0a4",
   "metadata": {},
   "source": [
    "# Join Two Tuples\n",
    "\n",
    "By using the + operator"
   ]
  },
  {
   "cell_type": "code",
   "execution_count": 53,
   "id": "a789e055",
   "metadata": {},
   "outputs": [
    {
     "name": "stdout",
     "output_type": "stream",
     "text": [
      "('a', 'b', 'c', 1, 2, 3)\n"
     ]
    }
   ],
   "source": [
    "hy1 = (\"a\", \"b\" , \"c\")\n",
    "hy2 = (1, 2, 3)\n",
    "hy3 = hy1 + hy2\n",
    "print(hy3)"
   ]
  },
  {
   "cell_type": "markdown",
   "id": "14b8aaf0",
   "metadata": {},
   "source": [
    "# Multiply Tuples\n",
    "\n",
    "By using the * operator"
   ]
  },
  {
   "cell_type": "code",
   "execution_count": 56,
   "id": "919c9cb1",
   "metadata": {},
   "outputs": [
    {
     "name": "stdout",
     "output_type": "stream",
     "text": [
      "('dog', 'cat', 'cow', 'dog', 'cat', 'cow', 'dog', 'cat', 'cow')\n"
     ]
    }
   ],
   "source": [
    "animals = (\"dog\", \"cat\", \"cow\")\n",
    "hewan = animals * 3\n",
    "\n",
    "print(hewan)"
   ]
  },
  {
   "cell_type": "markdown",
   "id": "008c85e4",
   "metadata": {},
   "source": [
    "# 3. SETS\n",
    "\n",
    "Sets are used to store multiple items in a single variable.\n",
    "\n",
    "A set is a collection which is unordered, unchangeable*, and unindexed.\n",
    "\n",
    "Note: Set items are unchangeable, but you can remove items and add new items.\n",
    "\n",
    "Sets are written with curly brackets."
   ]
  },
  {
   "cell_type": "code",
   "execution_count": 58,
   "id": "9aa19727",
   "metadata": {},
   "outputs": [
    {
     "name": "stdout",
     "output_type": "stream",
     "text": [
      "{'banana', 'apple', 'cherry'}\n"
     ]
    }
   ],
   "source": [
    "fruits = {\"apple\", \"banana\", \"cherry\"}\n",
    "print(fruits)\n",
    "\n",
    "# Sets are unordered, so you cannot be sure \n",
    "# in which order the items will appear."
   ]
  },
  {
   "cell_type": "markdown",
   "id": "819e2692",
   "metadata": {},
   "source": [
    "# Access Items\n",
    "\n",
    "Cannot access items in a set by referring to an index or a key.\n",
    "\n",
    "But it can loop through the set items using \"a for loop\", or ask if a specified value is present in a set, by using the \"in\" keyword.\n"
   ]
  },
  {
   "cell_type": "code",
   "execution_count": 61,
   "id": "7d6c270b",
   "metadata": {},
   "outputs": [
    {
     "name": "stdout",
     "output_type": "stream",
     "text": [
      "banana\n",
      "apple\n",
      "cherry\n"
     ]
    }
   ],
   "source": [
    "fruits = {\"apple\", \"banana\", \"cherry\"}\n",
    "\n",
    "for x in fruits:\n",
    "    print(x)"
   ]
  },
  {
   "cell_type": "code",
   "execution_count": 64,
   "id": "42aa5364",
   "metadata": {},
   "outputs": [
    {
     "name": "stdout",
     "output_type": "stream",
     "text": [
      "True\n"
     ]
    }
   ],
   "source": [
    "# Check if \"banana\" is present in the set\n",
    "\n",
    "fruits = {\"apple\", \"banana\", \"cherry\"}\n",
    "\n",
    "print(\"banana\" in fruits)"
   ]
  },
  {
   "cell_type": "markdown",
   "id": "e5b64811",
   "metadata": {},
   "source": [
    "# Change Items\n",
    "\n",
    "Once a set is created, you cannot change its items, but you can add new items."
   ]
  },
  {
   "cell_type": "markdown",
   "id": "41098ae6",
   "metadata": {},
   "source": [
    "# Add Items\n",
    "\n",
    "By using the add() method."
   ]
  },
  {
   "cell_type": "code",
   "execution_count": 66,
   "id": "feb8cf81",
   "metadata": {},
   "outputs": [
    {
     "name": "stdout",
     "output_type": "stream",
     "text": [
      "{'banana', 'apple', 'grape', 'cherry'}\n"
     ]
    }
   ],
   "source": [
    "fruits = {\"apple\", \"banana\", \"cherry\"}\n",
    "fruits.add(\"grape\")\n",
    "print(fruits)"
   ]
  },
  {
   "cell_type": "markdown",
   "id": "ecdefe34",
   "metadata": {},
   "source": [
    "# Add Sets\n",
    "\n",
    "To add items from another set into the current set, use the update() method."
   ]
  },
  {
   "cell_type": "code",
   "execution_count": 67,
   "id": "a8277c1d",
   "metadata": {},
   "outputs": [
    {
     "name": "stdout",
     "output_type": "stream",
     "text": [
      "{'pisang', 'apel', 'ceri', 'banana', 'apple', 'cherry'}\n"
     ]
    }
   ],
   "source": [
    "fruits = {\"apple\", \"banana\", \"cherry\"}\n",
    "buah = {\"apel\", \"pisang\", \"ceri\"}\n",
    "fruits.update(buah)\n",
    "\n",
    "print(fruits)"
   ]
  },
  {
   "cell_type": "markdown",
   "id": "56540515",
   "metadata": {},
   "source": [
    "# Add Any Iterable\n",
    "\n",
    "The object in the update() method does not have to be a set, it can be any iterable object (tuples, lists, dictionaries etc.)."
   ]
  },
  {
   "cell_type": "code",
   "execution_count": 68,
   "id": "12a140dd",
   "metadata": {},
   "outputs": [
    {
     "name": "stdout",
     "output_type": "stream",
     "text": [
      "{'cherry', 'carrot', 'banana', 'tomato', 'apple'}\n"
     ]
    }
   ],
   "source": [
    "fruits = {\"apple\", \"banana\", \"cherry\"}\n",
    "vegetables = [\"tomato\", \"carrot\"]\n",
    "fruits.update(vegetables)\n",
    "\n",
    "print(fruits)"
   ]
  },
  {
   "cell_type": "markdown",
   "id": "df12e6c6",
   "metadata": {},
   "source": [
    "# Remove Item\n",
    "\n",
    "To remove an item in a set, use the remove(), or the discard() method.\n"
   ]
  },
  {
   "cell_type": "code",
   "execution_count": 73,
   "id": "0811d31f",
   "metadata": {},
   "outputs": [
    {
     "name": "stdout",
     "output_type": "stream",
     "text": [
      "{'banana', 'apple'}\n"
     ]
    }
   ],
   "source": [
    "# Remove \"cherry\" by using the remove() method\n",
    "\n",
    "fruits = {\"apple\", \"banana\", \"cherry\"}\n",
    "fruits.remove(\"cherry\")\n",
    "\n",
    "print(fruits)\n",
    "\n",
    "# Note: If the item to remove does not exist, remove() will raise an error."
   ]
  },
  {
   "cell_type": "code",
   "execution_count": 74,
   "id": "b96415e7",
   "metadata": {},
   "outputs": [
    {
     "name": "stdout",
     "output_type": "stream",
     "text": [
      "{'apple', 'cherry'}\n"
     ]
    }
   ],
   "source": [
    "# Remove \"banana\" by using the discard() method\n",
    "\n",
    "fruits = {\"apple\", \"banana\", \"cherry\"}\n",
    "fruits.discard(\"banana\")\n",
    "\n",
    "print(fruits)\n",
    "\n",
    "# Note: If the item to remove does not exist, discard() will NOT raise an error."
   ]
  },
  {
   "cell_type": "markdown",
   "id": "37d950ae",
   "metadata": {},
   "source": [
    "We can also use the pop() method to remove an item, but this method will remove the last item. Remember that sets are unordered, so we will not know what item that gets removed.\n",
    "\n",
    "\n",
    "The return value of the pop() method is the removed item."
   ]
  },
  {
   "cell_type": "code",
   "execution_count": 76,
   "id": "4f3a2a5c",
   "metadata": {},
   "outputs": [
    {
     "name": "stdout",
     "output_type": "stream",
     "text": [
      "banana\n",
      "{'apple', 'cherry'}\n"
     ]
    }
   ],
   "source": [
    "fruits = {\"apple\", \"banana\", \"cherry\"}\n",
    "buah = fruits.pop()\n",
    "\n",
    "print(buah)\n",
    "print(fruits)"
   ]
  },
  {
   "cell_type": "code",
   "execution_count": 77,
   "id": "d834e105",
   "metadata": {},
   "outputs": [
    {
     "name": "stdout",
     "output_type": "stream",
     "text": [
      "set()\n"
     ]
    }
   ],
   "source": [
    "# The clear() method empties the set\n",
    "\n",
    "fruits = {\"apple\", \"banana\", \"cherry\"}\n",
    "fruits.clear()\n",
    "print(fruits)"
   ]
  },
  {
   "cell_type": "markdown",
   "id": "0f13f956",
   "metadata": {},
   "source": [
    "# Keep ONLY the Duplicates\n",
    "\n"
   ]
  },
  {
   "cell_type": "code",
   "execution_count": 78,
   "id": "6c7b50c1",
   "metadata": {},
   "outputs": [
    {
     "name": "stdout",
     "output_type": "stream",
     "text": [
      "{'apple'}\n"
     ]
    }
   ],
   "source": [
    "# Keep the items that exist in both set x, and set y\n",
    "# The intersection_update() method \n",
    "# will keep only the items that are present in both sets.\n",
    "\n",
    "x = {\"apple\", \"banana\", \"cherry\"}\n",
    "y = {\"google\", \"microsoft\", \"apple\"}\n",
    "\n",
    "x.intersection_update(y)\n",
    "\n",
    "print(x)\n"
   ]
  },
  {
   "cell_type": "code",
   "execution_count": 79,
   "id": "5a0bf211",
   "metadata": {},
   "outputs": [
    {
     "name": "stdout",
     "output_type": "stream",
     "text": [
      "{'apple'}\n"
     ]
    }
   ],
   "source": [
    "# The intersection() method will return a new set, \n",
    "# that only contains the items that are present in both sets.\n",
    "\n",
    "x = {\"apple\", \"banana\", \"cherry\"}\n",
    "y = {\"google\", \"microsoft\", \"apple\"}\n",
    "\n",
    "z = x.intersection(y)\n",
    "\n",
    "print(z)"
   ]
  },
  {
   "cell_type": "markdown",
   "id": "a3882dbd",
   "metadata": {},
   "source": [
    "# Keep All, But NOT the Duplicates"
   ]
  },
  {
   "cell_type": "code",
   "execution_count": 80,
   "id": "52ded9ed",
   "metadata": {},
   "outputs": [
    {
     "name": "stdout",
     "output_type": "stream",
     "text": [
      "{'microsoft', 'cherry', 'banana', 'google'}\n"
     ]
    }
   ],
   "source": [
    "# The symmetric_difference_update() method \n",
    "# will keep only the elements that are NOT present in both sets.\n",
    "\n",
    "x = {\"apple\", \"banana\", \"cherry\"}\n",
    "y = {\"google\", \"microsoft\", \"apple\"}\n",
    "\n",
    "x.symmetric_difference_update(y)\n",
    "\n",
    "print(x)\n"
   ]
  },
  {
   "cell_type": "code",
   "execution_count": 81,
   "id": "2ab1d8fa",
   "metadata": {},
   "outputs": [
    {
     "name": "stdout",
     "output_type": "stream",
     "text": [
      "{'microsoft', 'cherry', 'banana', 'google'}\n"
     ]
    }
   ],
   "source": [
    "# The symmetric_difference() method will return a new set, \n",
    "# that contains only the elements that are NOT present in both sets.\n",
    "\n",
    "x = {\"apple\", \"banana\", \"cherry\"}\n",
    "y = {\"google\", \"microsoft\", \"apple\"}\n",
    "\n",
    "z = x.symmetric_difference(y)\n",
    "\n",
    "print(z)"
   ]
  },
  {
   "cell_type": "markdown",
   "id": "5b65f6cc",
   "metadata": {},
   "source": [
    "# Dictionaries\n",
    "\n",
    "Dictionaries are used to store data values in key:value pairs.\n",
    "\n",
    "A dictionary is a collection which is ordered*, changeable and do not allow duplicates.\n",
    "\n",
    "As of Python version 3.7, dictionaries are ordered. In Python 3.6 and earlier, dictionaries are unordered.\n",
    "\n",
    "Dictionaries are written with curly brackets, and have keys & values.\n",
    "\n",
    "left = key\n",
    "\n",
    "right = value"
   ]
  },
  {
   "cell_type": "code",
   "execution_count": 82,
   "id": "0b49ac20",
   "metadata": {},
   "outputs": [
    {
     "name": "stdout",
     "output_type": "stream",
     "text": [
      "{'brand': 'lamborgini', 'model': ' NewVV99', 'year': 2023}\n"
     ]
    }
   ],
   "source": [
    "mycar = {\n",
    "    \"brand\" : \"lamborgini\",\n",
    "    \"model\" : \" NewVV99\",\n",
    "    \"year\"  : 2023\n",
    "}\n",
    "\n",
    "print(mycar)"
   ]
  },
  {
   "cell_type": "markdown",
   "id": "9de9be78",
   "metadata": {},
   "source": [
    "Dictionary items are presented in key:value pairs, and can be referred to by using the key name."
   ]
  },
  {
   "cell_type": "code",
   "execution_count": 83,
   "id": "5883526e",
   "metadata": {},
   "outputs": [
    {
     "name": "stdout",
     "output_type": "stream",
     "text": [
      "lamborgini\n"
     ]
    }
   ],
   "source": [
    "mycar = {\n",
    "    \"brand\" : \"lamborgini\",\n",
    "    \"model\" : \" NewVV99\",\n",
    "    \"year\"  : 2023\n",
    "}\n",
    "\n",
    "print(mycar[\"brand\"])"
   ]
  },
  {
   "cell_type": "markdown",
   "id": "382e23d2",
   "metadata": {},
   "source": [
    "# Ordered or Unordered?\n",
    "\n",
    "As of Python version 3.7, dictionaries are ordered. In Python 3.6 and earlier, dictionaries are unordered.\n",
    "\n",
    "When the dictionaries are ordered, it means that the items have a defined order, and that order will not change.\n",
    "\n",
    "If unordered means that the items does not have a defined order, we cannot refer to an item by using an index."
   ]
  },
  {
   "cell_type": "markdown",
   "id": "b4e985a3",
   "metadata": {},
   "source": [
    "# Duplicates Not Allowed\n",
    "\n",
    "Dictionaries cannot have two items with the same key"
   ]
  },
  {
   "cell_type": "code",
   "execution_count": 86,
   "id": "858825a3",
   "metadata": {},
   "outputs": [
    {
     "name": "stdout",
     "output_type": "stream",
     "text": [
      "{'brand': 'lamborgini', 'model': ' NewVV99', 'year': 2020}\n"
     ]
    }
   ],
   "source": [
    "# Duplicate values will overwrite existing values\n",
    "\n",
    "mycar = {\n",
    "    \"brand\" : \"lamborgini\",\n",
    "    \"model\" : \" NewVV99\",\n",
    "    \"year\"  : 2023,\n",
    "    \"year\"  : 2020\n",
    "}\n",
    "\n",
    "print(mycar)\n",
    "\n",
    "# it will show the last one which is 2020"
   ]
  },
  {
   "cell_type": "code",
   "execution_count": 87,
   "id": "270267c0",
   "metadata": {},
   "outputs": [
    {
     "name": "stdout",
     "output_type": "stream",
     "text": [
      "3\n"
     ]
    }
   ],
   "source": [
    "# Dictionary Length\n",
    "\n",
    "print(len(mycar))\n",
    "\n",
    "# duplicate value will count as 1"
   ]
  },
  {
   "cell_type": "markdown",
   "id": "33ef82f9",
   "metadata": {},
   "source": [
    "# Accessing Items\n",
    "\n",
    "We can access the items of a dictionary by referring to its key name (inside square brackets)"
   ]
  },
  {
   "cell_type": "code",
   "execution_count": 89,
   "id": "571384bc",
   "metadata": {},
   "outputs": [
    {
     "name": "stdout",
     "output_type": "stream",
     "text": [
      " NewVV99\n"
     ]
    }
   ],
   "source": [
    "mycar = {\n",
    "    \"brand\" : \"lamborgini\",\n",
    "    \"model\" : \" NewVV99\",\n",
    "    \"year\"  : 2023\n",
    "   \n",
    "}\n",
    "\n",
    "x = mycar[\"model\"]\n",
    "print(x)"
   ]
  },
  {
   "cell_type": "code",
   "execution_count": 90,
   "id": "ae855575",
   "metadata": {},
   "outputs": [],
   "source": [
    "# There is also a method called get() that will give the same result\n",
    "\n",
    "x = mycar.get(\"model\")\n"
   ]
  },
  {
   "cell_type": "markdown",
   "id": "690e14f3",
   "metadata": {},
   "source": [
    "# Get Keys\n",
    "\n",
    "The keys( ) method will return a list of all the keys in the dictionary.\n",
    "\n",
    "The list of the keys is a view of the dictionary, meaning that any changes done to the dictionary will be reflected in the keys list."
   ]
  },
  {
   "cell_type": "code",
   "execution_count": 93,
   "id": "21aa5dc7",
   "metadata": {},
   "outputs": [
    {
     "name": "stdout",
     "output_type": "stream",
     "text": [
      "dict_keys(['brand', 'model', 'year', 'colour'])\n"
     ]
    }
   ],
   "source": [
    "mycar = {\n",
    "    \"brand\" : \"lamborgini\",\n",
    "    \"model\" : \" NewVV99\",\n",
    "    \"year\"  : 2023,\n",
    "    \"colour\" : \"white\"\n",
    "   \n",
    "}\n",
    "\n",
    "x = mycar.keys()\n",
    "print(x)"
   ]
  },
  {
   "cell_type": "markdown",
   "id": "217b651d",
   "metadata": {},
   "source": [
    "# Get Values\n",
    "\n",
    "The values() method will return a list of all the values in the dictionary."
   ]
  },
  {
   "cell_type": "code",
   "execution_count": 95,
   "id": "07f2fd4c",
   "metadata": {},
   "outputs": [
    {
     "name": "stdout",
     "output_type": "stream",
     "text": [
      "dict_values(['lamborgini', ' NewVV99', 2000, 'white'])\n"
     ]
    }
   ],
   "source": [
    "mycar = {\n",
    "    \"brand\" : \"lamborgini\",\n",
    "    \"model\" : \" NewVV99\",\n",
    "    \"year\"  : 2000,\n",
    "    \"colour\" : \"white\"\n",
    "   \n",
    "}\n",
    "\n",
    "x = mycar.values()\n",
    "print(x)"
   ]
  },
  {
   "cell_type": "markdown",
   "id": "2d6c1f7a",
   "metadata": {},
   "source": [
    "# Get Items\n",
    "\n",
    "The items() method will return each item in a dictionary, as tuples in a list."
   ]
  },
  {
   "cell_type": "code",
   "execution_count": 96,
   "id": "a70bc07b",
   "metadata": {},
   "outputs": [
    {
     "name": "stdout",
     "output_type": "stream",
     "text": [
      "dict_items([('brand', 'lamborgini'), ('model', ' NewVV99'), ('year', 2000), ('colour', 'white')])\n"
     ]
    }
   ],
   "source": [
    "# Get a list of the key:value pairs\n",
    "\n",
    "mycar = {\n",
    "    \"brand\" : \"lamborgini\",\n",
    "    \"model\" : \" NewVV99\",\n",
    "    \"year\"  : 2000,\n",
    "    \"colour\" : \"white\"\n",
    "   \n",
    "}\n",
    "\n",
    "x = mycar.items()\n",
    "print(x)"
   ]
  },
  {
   "cell_type": "markdown",
   "id": "def66856",
   "metadata": {},
   "source": [
    "# Check if Key Exists\n",
    "\n",
    "To determine if a specified key is present in a dictionary use the in keyword."
   ]
  },
  {
   "cell_type": "code",
   "execution_count": 99,
   "id": "3641ace5",
   "metadata": {},
   "outputs": [
    {
     "name": "stdout",
     "output_type": "stream",
     "text": [
      "Yes, 'model' is one of the keys in the mycar dictionary\n"
     ]
    }
   ],
   "source": [
    "# Check if \"model\" is present in the dictionary\n",
    "\n",
    "mycar = {\n",
    "    \"brand\" : \"lamborgini\",\n",
    "    \"model\" : \" NewVV99\",\n",
    "    \"year\"  : 2000,\n",
    "    \"colour\" : \"white\"\n",
    "   \n",
    "}\n",
    "\n",
    "if \"model\" in mycar:\n",
    "    print(\"Yes, 'model' is one of the keys in the mycar dictionary\")"
   ]
  },
  {
   "cell_type": "markdown",
   "id": "a7551a73",
   "metadata": {},
   "source": [
    "# DONE, ALHAMDULILLAH"
   ]
  }
 ],
 "metadata": {
  "kernelspec": {
   "display_name": "Python 3 (ipykernel)",
   "language": "python",
   "name": "python3"
  },
  "language_info": {
   "codemirror_mode": {
    "name": "ipython",
    "version": 3
   },
   "file_extension": ".py",
   "mimetype": "text/x-python",
   "name": "python",
   "nbconvert_exporter": "python",
   "pygments_lexer": "ipython3",
   "version": "3.9.13"
  }
 },
 "nbformat": 4,
 "nbformat_minor": 5
}
