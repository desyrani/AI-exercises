{
 "cells": [
  {
   "cell_type": "markdown",
   "id": "1635393a",
   "metadata": {},
   "source": [
    "# 1.4 Iterative Deepening Depth-First Search (IDDFS)"
   ]
  },
  {
   "cell_type": "code",
   "execution_count": 13,
   "id": "db8d0bad",
   "metadata": {},
   "outputs": [
    {
     "name": "stdout",
     "output_type": "stream",
     "text": [
      "Path exists\n",
      "['A', 'B', 'E']\n"
     ]
    }
   ],
   "source": [
    "graph = {\n",
    "    'A': ['B','C'],\n",
    "    'B': ['D','E'],\n",
    "    'C': ['F','G'],\n",
    "    'D': [],\n",
    "    'E': [],\n",
    "    'F': [],\n",
    "    'G': []\n",
    "}\n",
    "path = list()\n",
    "def DFS (currentNode, destination,graph,maxDepth,curList):\n",
    "    curList.append(currentNode)\n",
    "    if currentNode==destination:\n",
    "        return True\n",
    "    if maxDepth<=0:\n",
    "        path.append(curList)\n",
    "        return False\n",
    "    for node in graph[currentNode]:\n",
    "        if DFS(node, destination,graph,maxDepth-1,curList):\n",
    "            return True\n",
    "        else:\n",
    "            curList.pop()\n",
    "    return False\n",
    "def iterativeDDFS(currentNode,destination,graph,maxDepth):\n",
    "    for i in range(maxDepth):\n",
    "        curList = list()\n",
    "        if DFS(currentNode,destination,graph,i,curList):\n",
    "            return True\n",
    "    return False\n",
    "if not iterativeDDFS('A','E',graph,3):\n",
    "    print(\"Path is not available\")\n",
    "else:\n",
    "    print(\"Path exists\")\n",
    "    print(path.pop())"
   ]
  },
  {
   "cell_type": "markdown",
   "id": "954b2b52",
   "metadata": {},
   "source": [
    "# 1.5 Bidirectional Search"
   ]
  },
  {
   "cell_type": "code",
   "execution_count": 18,
   "id": "76ba8162",
   "metadata": {},
   "outputs": [
    {
     "name": "stdout",
     "output_type": "stream",
     "text": [
      "['E', 'B', 'A', 'C', 'G']\n"
     ]
    }
   ],
   "source": [
    "from collections import deque\n",
    "class Node:\n",
    "    def __init__(self,val,neighbors=[]):\n",
    "        self.val = val \n",
    "        self.neighbors = neighbors\n",
    "        self.visited_right = False\n",
    "        self.visited_left = False\n",
    "        self.parent_right = None\n",
    "        self.parent_left = None\n",
    "def bidirectional_search(s, t):\n",
    "    def extract_path(node):\n",
    "        node_copy = node\n",
    "        path = []\n",
    "        while node:\n",
    "            path.append(node.val)\n",
    "            node = node.parent_right\n",
    "        path.reverse()\n",
    "        del path[-1]\n",
    "        while node_copy:\n",
    "            path.append(node_copy.val)\n",
    "            node_copy = node_copy.parent_left\n",
    "        return path\n",
    "    q = deque([])\n",
    "    q.append(s)\n",
    "    q.append(t)\n",
    "    s.visited_right = True\n",
    "    t.visited_left = True\n",
    "    while len(q) > 0:\n",
    "        n = q.pop()\n",
    "        if n.visited_left and n.visited_right:\n",
    "            return extract_path(n)\n",
    "        for node in n.neighbors:\n",
    "            if n.visited_left == True and not node.visited_left:\n",
    "                node.parent_left = n\n",
    "                node.visited_left = True\n",
    "                q.append(node)\n",
    "            if n.visited_right == True and not node.visited_right:\n",
    "                node.parent_right = n\n",
    "                node.visited_right = True\n",
    "                q.append(node)\n",
    "    return False\n",
    "n0 = Node('A')\n",
    "n1 = Node('B')\n",
    "n2 = Node('C')\n",
    "n3 = Node('D')\n",
    "n4 = Node('E')\n",
    "n5 = Node('F')\n",
    "n6 = Node('G')\n",
    "n0.neighbors = []\n",
    "n1.neighbors = [n0]\n",
    "n2.neighbors = [n0]\n",
    "n3.neighbors = [n1]\n",
    "n4.neighbors = [n1]\n",
    "n5.neighbors = [n2]\n",
    "n6.neighbors = [n2]\n",
    "print(bidirectional_search(n4, n6))"
   ]
  },
  {
   "cell_type": "markdown",
   "id": "f144f5e4",
   "metadata": {},
   "source": [
    "# 1.6 Uniform Cost Search (UCS)"
   ]
  },
  {
   "cell_type": "code",
   "execution_count": 21,
   "id": "7db87d51",
   "metadata": {},
   "outputs": [
    {
     "name": "stdout",
     "output_type": "stream",
     "text": [
      "Enter the Start State: S\n",
      "Enter the Goal State: G\n",
      "Path with least cost is:  S -> B -> E -> F -> G\n"
     ]
    }
   ],
   "source": [
    "graph =[['S','A',6],\n",
    "        ['S','B',5],\n",
    "        ['S','C',10],\n",
    "        ['A','E',6],\n",
    "        ['B','E',6],\n",
    "        ['B','D',7],\n",
    "        ['C','D',6],\n",
    "        ['E','F',6],\n",
    "        ['D','F',6],\n",
    "        ['F','G',1]]\n",
    "temp = []\n",
    "temp1 = []\n",
    "for i in graph:\n",
    "    temp.append(i[0])\n",
    "    temp1.append(i[1])\n",
    "nodes = set(temp).union(set(temp1))\n",
    "def UCS(graph,costs,open,closed,cur_node):\n",
    "    if cur_node in open:\n",
    "        open.remove(cur_node)\n",
    "    closed.add(cur_node)\n",
    "    for i in graph:\n",
    "        if (i[0] == cur_node and costs[i[0]]+i[2] < costs[i[1]]):\n",
    "            open.add(i[1])\n",
    "            costs[i[1]] = costs[i[0]]+i[2]\n",
    "            path[i[1]] = path[i[0]] + ' -> ' + i[1]\n",
    "    costs[cur_node] = 999999\n",
    "    small = min(costs, key=costs.get)\n",
    "    if small not in closed:\n",
    "        UCS(graph,costs,open,closed,small)\n",
    "costs = dict()\n",
    "temp_cost = dict()\n",
    "path = dict ()\n",
    "for i in nodes:\n",
    "    costs[i] = 999999\n",
    "    path[i] = ' '\n",
    "open = set()\n",
    "closed = set()\n",
    "start_node = input(\"Enter the Start State: \")\n",
    "open.add(start_node)\n",
    "path[start_node] = start_node\n",
    "costs[start_node] = 0\n",
    "UCS(graph, costs, open, closed, start_node)\n",
    "goal_node = input(\"Enter the Goal State: \")\n",
    "print(\"Path with least cost is: \",path[goal_node])\n",
    "\n",
    "        "
   ]
  },
  {
   "cell_type": "markdown",
   "id": "14edf404",
   "metadata": {},
   "source": [
    "#### ALHAMDULILLAH"
   ]
  }
 ],
 "metadata": {
  "kernelspec": {
   "display_name": "Python 3 (ipykernel)",
   "language": "python",
   "name": "python3"
  },
  "language_info": {
   "codemirror_mode": {
    "name": "ipython",
    "version": 3
   },
   "file_extension": ".py",
   "mimetype": "text/x-python",
   "name": "python",
   "nbconvert_exporter": "python",
   "pygments_lexer": "ipython3",
   "version": "3.9.13"
  }
 },
 "nbformat": 4,
 "nbformat_minor": 5
}
